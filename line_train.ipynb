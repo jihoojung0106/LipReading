{
  "nbformat": 4,
  "nbformat_minor": 0,
  "metadata": {
    "colab": {
      "provenance": [],
      "gpuType": "T4"
    },
    "kernelspec": {
      "name": "python3",
      "display_name": "Python 3"
    },
    "language_info": {
      "name": "python"
    },
    "accelerator": "GPU"
  },
  "cells": [
    {
      "cell_type": "markdown",
      "source": [
        "## 라이브러리"
      ],
      "metadata": {
        "id": "ayyjiFNU7oEY"
      }
    },
    {
      "cell_type": "code",
      "source": [
        "from typing import List\n",
        "from glob import glob\n",
        "import os\n",
        "import json\n",
        "import pickle as pkl\n",
        "\n",
        "import cv2\n",
        "import numpy as np\n",
        "import matplotlib.pyplot as plt\n",
        "from google.colab.patches import cv2_imshow\n",
        "\n",
        "import torch\n",
        "import torch.nn as nn\n",
        "from torch.utils.data import Dataset\n",
        "from torch.utils.data import DataLoader\n",
        "import torch.nn.functional as F"
      ],
      "metadata": {
        "id": "fX2JASVh6Oj1"
      },
      "execution_count": 2,
      "outputs": []
    },
    {
      "cell_type": "code",
      "source": [
        "import random\n",
        "\n",
        "seed = 2023\n",
        "deterministic = True\n",
        "\n",
        "random.seed(seed)\n",
        "np.random.seed(seed)\n",
        "torch.manual_seed(seed)\n",
        "torch.cuda.manual_seed_all(seed)\n",
        "if deterministic:\n",
        "\ttorch.backends.cudnn.deterministic = True\n",
        "\ttorch.backends.cudnn.benchmark = False"
      ],
      "metadata": {
        "id": "9Zi9_JE8Fa-h"
      },
      "execution_count": 3,
      "outputs": []
    },
    {
      "cell_type": "markdown",
      "source": [
        "## 데이터 로드"
      ],
      "metadata": {
        "id": "mlZXacKN7vYV"
      }
    },
    {
      "cell_type": "code",
      "source": [
        "with open('/content/img_data.pkl', 'rb') as f:\n",
        "    img_data = pkl.load(f)\n",
        "\n",
        "with open('/content/labels.pkl', 'rb') as f:\n",
        "    labels = pkl.load(f)"
      ],
      "metadata": {
        "id": "_GSn0Cwk7u6c"
      },
      "execution_count": 4,
      "outputs": []
    },
    {
      "cell_type": "code",
      "source": [
        "img_data_train = img_data[:100] + img_data[200:800] + img_data[900:]\n",
        "lab_data_train = labels[:100] + labels[200:800] + labels[900:]\n",
        "\n",
        "img_data_test = img_data[100:200] +  img_data[800:900]\n",
        "lab_data_test = labels[100:200] + labels[800:900]"
      ],
      "metadata": {
        "id": "0-f4T_Zy4YaH"
      },
      "execution_count": 5,
      "outputs": []
    },
    {
      "cell_type": "code",
      "source": [
        "print(len(img_data_train))\n",
        "print(len(img_data_test))"
      ],
      "metadata": {
        "colab": {
          "base_uri": "https://localhost:8080/"
        },
        "id": "YZgh48Aa48ht",
        "outputId": "2100ccb1-ad42-4336-dc78-42b29522afb2"
      },
      "execution_count": 6,
      "outputs": [
        {
          "output_type": "stream",
          "name": "stdout",
          "text": [
            "1000\n",
            "200\n"
          ]
        }
      ]
    },
    {
      "cell_type": "markdown",
      "source": [
        "## 데이터파라미터 세팅"
      ],
      "metadata": {
        "id": "oE-ra0kg8agg"
      }
    },
    {
      "cell_type": "code",
      "source": [
        "device = torch.device(\"cuda\" if torch.cuda.is_available() else \"cpu\")\n",
        "print(f\"현재 사용하는 디바이스: {device}\")"
      ],
      "metadata": {
        "colab": {
          "base_uri": "https://localhost:8080/"
        },
        "id": "8iO8448nCR6b",
        "outputId": "870da539-32ef-4218-adfd-10a75ee8d4b7"
      },
      "execution_count": 7,
      "outputs": [
        {
          "output_type": "stream",
          "name": "stdout",
          "text": [
            "현재 사용하는 디바이스: cuda\n"
          ]
        }
      ]
    },
    {
      "cell_type": "code",
      "source": [
        "timesteps = 16\n",
        "n_labels = 10\n",
        "n_transform = 5\n",
        "img_col = 45\n",
        "img_row = 30\n",
        "img_channel = 1\n",
        "batch_size = 32"
      ],
      "metadata": {
        "id": "McKQ_BvC7N3D"
      },
      "execution_count": 20,
      "outputs": []
    },
    {
      "cell_type": "markdown",
      "source": [
        "## 데이터셋 구축"
      ],
      "metadata": {
        "id": "8WvS2oFw8c7Z"
      }
    },
    {
      "cell_type": "code",
      "source": [
        "from torchvision import transforms\n",
        "\n",
        "data_transform = transforms.Compose([\n",
        "    transforms.RandomRotation(15),\n",
        "    transforms.RandomHorizontalFlip(p=0.5),\n",
        "    transforms.RandomResizedCrop((30, 45),scale=(0.9,1.1)),\n",
        "])"
      ],
      "metadata": {
        "id": "pWlYru2FBBp9"
      },
      "execution_count": 21,
      "outputs": []
    },
    {
      "cell_type": "code",
      "source": [
        "candidat_data_transform = transforms.Compose([\n",
        "    transforms.RandomResizedCrop((30, 45),scale=(0.9,1.1)),\n",
        "    transforms.RandomRotation(15),\n",
        "    transforms.RandomHorizontalFlip(p=0.5),\n",
        "])"
      ],
      "metadata": {
        "id": "wFhHw8ayRKx9"
      },
      "execution_count": null,
      "outputs": []
    },
    {
      "cell_type": "code",
      "source": [
        "class LipReadingDataset(Dataset):\n",
        "    def __init__(self, img_data:List[List[np.ndarray]] , labels:List[int], frame_len:int = 15, n_labels:int = 10, transform=None, n_transform:int = 0)->None:\n",
        "\n",
        "        assert len(img_data) == len(labels)\n",
        "        scenes = []\n",
        "\n",
        "        for frames in img_data:\n",
        "\n",
        "            while frame_len > len(frames):\n",
        "                frames.append(frames[-1])\n",
        "\n",
        "            if frame_len < len(frames):\n",
        "                frames = frames[:frame_len]\n",
        "\n",
        "            scene = np.stack(frames, axis = 0)\n",
        "            scenes.append(torch.from_numpy(scene / 255.0).float())\n",
        "\n",
        "        if transform:\n",
        "            temp_scenes = scenes\n",
        "            temp_labels = labels\n",
        "\n",
        "            scenes = []\n",
        "            labels = []\n",
        "\n",
        "            for _ in range(n_transform):\n",
        "                for sc, lb in zip(temp_scenes, temp_labels):\n",
        "                    scenes.append(transform(sc))\n",
        "                    labels.append(lb)\n",
        "\n",
        "        self.scenes = torch.unsqueeze(torch.stack(scenes, axis = 0), axis = 2)\n",
        "        self.labels = F.one_hot(torch.from_numpy(np.array(labels) - 1), n_labels)\n",
        "\n",
        "        print(self.scenes.shape, self.labels.shape)\n",
        "\n",
        "    def __len__(self):\n",
        "        return self.labels.shape[0]\n",
        "\n",
        "    def __getitem__(self, idx):\n",
        "        scene = self.scenes[idx]\n",
        "        label = self.labels[idx]\n",
        "\n",
        "        return scene, label"
      ],
      "metadata": {
        "id": "XBhnfoXn7Yxy"
      },
      "execution_count": 50,
      "outputs": []
    },
    {
      "cell_type": "code",
      "source": [
        "train = LipReadingDataset(img_data_train, lab_data_train, timesteps, n_labels, data_transform, n_transform)\n",
        "test = LipReadingDataset(img_data_test, lab_data_test, timesteps, n_labels)"
      ],
      "metadata": {
        "colab": {
          "base_uri": "https://localhost:8080/"
        },
        "id": "-X2GAE-D8YLy",
        "outputId": "1c3f4c33-262c-44d0-af56-e99f631e01a0"
      },
      "execution_count": 51,
      "outputs": [
        {
          "output_type": "stream",
          "name": "stderr",
          "text": [
            "/usr/local/lib/python3.10/dist-packages/torchvision/transforms/functional.py:1603: UserWarning: The default value of the antialias parameter of all the resizing transforms (Resize(), RandomResizedCrop(), etc.) will change from None to True in v0.17, in order to be consistent across the PIL and Tensor backends. To suppress this warning, directly pass antialias=True (recommended, future default), antialias=None (current default, which means False for Tensors and True for PIL), or antialias=False (only works on Tensors - PIL will still use antialiasing). This also applies if you are using the inference transforms from the models weights: update the call to weights.transforms(antialias=True).\n",
            "  warnings.warn(\n"
          ]
        },
        {
          "output_type": "stream",
          "name": "stdout",
          "text": [
            "torch.Size([5000, 16, 1, 30, 45]) torch.Size([5000, 10])\n",
            "torch.Size([200, 16, 1, 30, 45]) torch.Size([200, 10])\n"
          ]
        }
      ]
    },
    {
      "cell_type": "code",
      "source": [
        "cv2_imshow(train[1][0][4][0].numpy() * 255)"
      ],
      "metadata": {
        "colab": {
          "base_uri": "https://localhost:8080/",
          "height": 47
        },
        "id": "jwluGKmQMDxz",
        "outputId": "c985bb42-5c23-488d-8d29-09df0cb4cd2a"
      },
      "execution_count": 53,
      "outputs": [
        {
          "output_type": "display_data",
          "data": {
            "text/plain": [
              "<PIL.Image.Image image mode=L size=45x30>"
            ],
            "image/png": "[encoded data removed]"
          },
          "metadata": {}
        }
      ]
    },
    {
      "cell_type": "code",
      "source": [
        "print(train[0][0].dtype)"
      ],
      "metadata": {
        "colab": {
          "base_uri": "https://localhost:8080/"
        },
        "id": "5KJFeOyvN14I",
        "outputId": "34f0f12a-b7da-4be0-afca-840b56d30e53"
      },
      "execution_count": 54,
      "outputs": [
        {
          "output_type": "stream",
          "name": "stdout",
          "text": [
            "torch.float32\n"
          ]
        }
      ]
    },
    {
      "cell_type": "code",
      "source": [
        "train_loader = DataLoader(train, batch_size=batch_size, shuffle=True)\n",
        "test_loader = DataLoader(test, batch_size=batch_size, shuffle=False)"
      ],
      "metadata": {
        "id": "C14hjPzI7eGM"
      },
      "execution_count": 55,
      "outputs": []
    },
    {
      "cell_type": "markdown",
      "source": [
        "## 모델 정의"
      ],
      "metadata": {
        "id": "a0J6nCTL7OlU"
      }
    },
    {
      "cell_type": "code",
      "source": [
        "class SimpleLipNet(nn.Module):\n",
        "    def __init__(self, video_shape, vocabulary_size:int = 10):\n",
        "        super(SimpleLipNet, self).__init__()\n",
        "        self.conv1 = nn.Conv3d(1, 64, kernel_size=3, padding=1)\n",
        "        self.bn1 = nn.BatchNorm3d(64)\n",
        "        self.relu1 = nn.ReLU()\n",
        "        self.maxpool1 = nn.MaxPool3d(kernel_size=(1, 2, 2))\n",
        "\n",
        "        self.conv2 = nn.Conv3d(64, 128, kernel_size=3, padding=1)\n",
        "        self.bn2 = nn.BatchNorm3d(128)\n",
        "        self.relu2 = nn.ReLU()\n",
        "        self.maxpool2 = nn.MaxPool3d(kernel_size=(1, 2, 2))\n",
        "\n",
        "        self.conv3 = nn.Conv3d(128, 32, kernel_size=3, padding=1)\n",
        "        self.bn3 = nn.BatchNorm3d(32)\n",
        "        self.relu3 = nn.ReLU()\n",
        "        self.maxpool3 = nn.MaxPool3d(kernel_size=(1, 2, 2))\n",
        "\n",
        "        self.flatten1 = nn.Flatten(2)\n",
        "\n",
        "        lstm_input = 32 * (video_shape[1] // 8) * (video_shape[2] // 8)\n",
        "        self.lstm1 = nn.LSTM(input_size=lstm_input, hidden_size=64, bidirectional=True, batch_first=True)\n",
        "        self.dropout1 = nn.Dropout(0.5)\n",
        "        self.lstm2 = nn.LSTM(input_size=128, hidden_size=64, bidirectional=True, batch_first=True)\n",
        "        self.dropout2 = nn.Dropout(0.5)\n",
        "\n",
        "        self.flatten2 = nn.Flatten()\n",
        "        self.dense = nn.Linear(128 * (video_shape[0]), vocabulary_size)\n",
        "        self.softmax = nn.Softmax(dim=1)\n",
        "\n",
        "    def forward(self, x):\n",
        "        x = x.transpose(1, 2)\n",
        "        x = self.conv1(x)\n",
        "        x = self.bn1(x)\n",
        "        x = self.relu1(x)\n",
        "        x = self.maxpool1(x)\n",
        "        x = self.conv2(x)\n",
        "        x = self.bn2(x)\n",
        "        x = self.relu2(x)\n",
        "        x = self.maxpool2(x)\n",
        "        x = self.conv3(x)\n",
        "        x = self.bn3(x)\n",
        "        x = self.relu3(x)\n",
        "        x = self.maxpool3(x)\n",
        "        x = self.flatten1(x.transpose(1, 2))\n",
        "        x, _ = self.lstm1(x)\n",
        "        x = self.dropout1(x)\n",
        "        x, _ = self.lstm2(x)\n",
        "        x = self.dropout2(x)\n",
        "        x = self.flatten2(x)\n",
        "        x = self.dense(x)\n",
        "        x = self.softmax(x)\n",
        "        return x"
      ],
      "metadata": {
        "id": "bFd1Rykw5b8F"
      },
      "execution_count": 56,
      "outputs": []
    },
    {
      "cell_type": "code",
      "source": [
        "model = SimpleLipNet((timesteps, img_col, img_row), n_labels)\n",
        "model = model.to(device)"
      ],
      "metadata": {
        "id": "YMRprTeO8zSf"
      },
      "execution_count": 57,
      "outputs": []
    },
    {
      "cell_type": "markdown",
      "source": [
        "## 모델 학습"
      ],
      "metadata": {
        "id": "yZvjMVVA7iKd"
      }
    },
    {
      "cell_type": "code",
      "source": [
        "Learning_rate = 0.0001\n",
        "validation_ratio = 0.2\n",
        "num_epochs = 50\n",
        "max_lr = 0.001\n",
        "pct_start= 0.2\n",
        "weight_decay = 0.005"
      ],
      "metadata": {
        "id": "SOSty_KyHavI"
      },
      "execution_count": 58,
      "outputs": []
    },
    {
      "cell_type": "code",
      "source": [
        "optimizer = torch.optim.Adam(model.parameters(), lr=Learning_rate, weight_decay = weight_decay)\n",
        "criterion = nn.CrossEntropyLoss()\n",
        "scheduler = torch.optim.lr_scheduler.OneCycleLR(optimizer,\n",
        "                                                max_lr,\n",
        "                                                epochs = num_epochs,\n",
        "                                                steps_per_epoch=len(train_loader),\n",
        "                                                pct_start=pct_start)"
      ],
      "metadata": {
        "id": "5PA6digC7hSs"
      },
      "execution_count": 59,
      "outputs": []
    },
    {
      "cell_type": "code",
      "source": [
        "model.train()\n",
        "\n",
        "loss_history = []\n",
        "acc_history = []\n",
        "lr_history = []\n",
        "\n",
        "for epoch in range(num_epochs):\n",
        "\n",
        "    running_loss = 0.0\n",
        "    running_corrects = 0\n",
        "\n",
        "    for i, (inputs, labels) in enumerate(train_loader):\n",
        "        inputs = inputs.to(device)\n",
        "        labels = labels.to(device)\n",
        "\n",
        "        outputs = model(inputs)\n",
        "        loss = criterion(outputs, torch.max(labels, 1)[1])\n",
        "\n",
        "        optimizer.zero_grad()\n",
        "\n",
        "        loss.backward()\n",
        "        optimizer.step()\n",
        "        scheduler.step()\n",
        "\n",
        "        lr_history.append(scheduler.get_last_lr())\n",
        "\n",
        "        _, preds = torch.max(outputs, 1)\n",
        "\n",
        "        running_loss += loss.item() * inputs.size(0)\n",
        "        running_corrects += torch.sum(preds == torch.max(labels, 1)[1])\n",
        "\n",
        "    epoch_loss = running_loss / len(train_loader.dataset)\n",
        "    epoch_acc = running_corrects.double() / len(train_loader.dataset)\n",
        "\n",
        "    loss_history.append(epoch_loss)\n",
        "    acc_history.append(epoch_acc.cpu())\n",
        "\n",
        "    print('{}, Loss: {:.4f} Acc: {:.4f}'.format(epoch, epoch_loss, epoch_acc))"
      ],
      "metadata": {
        "colab": {
          "base_uri": "https://localhost:8080/"
        },
        "id": "NsylNTUJ7jQ_",
        "outputId": "6af51e04-3d39-4d8d-81df-a8863de442d6"
      },
      "execution_count": 60,
      "outputs": [
        {
          "output_type": "stream",
          "name": "stdout",
          "text": [
            "0, Loss: 2.3017 Acc: 0.1130\n",
            "1, Loss: 2.2958 Acc: 0.1994\n",
            "2, Loss: 2.1792 Acc: 0.3032\n",
            "3, Loss: 2.0061 Acc: 0.4708\n",
            "4, Loss: 1.8626 Acc: 0.6246\n",
            "5, Loss: 1.7703 Acc: 0.7094\n",
            "6, Loss: 1.7314 Acc: 0.7494\n",
            "7, Loss: 1.7056 Acc: 0.7726\n",
            "8, Loss: 1.7138 Acc: 0.7608\n",
            "9, Loss: 1.6604 Acc: 0.8174\n",
            "10, Loss: 1.6334 Acc: 0.8440\n",
            "11, Loss: 1.6331 Acc: 0.8454\n",
            "12, Loss: 1.6043 Acc: 0.8732\n",
            "13, Loss: 1.5836 Acc: 0.8922\n",
            "14, Loss: 1.5662 Acc: 0.9102\n",
            "15, Loss: 1.5542 Acc: 0.9240\n",
            "16, Loss: 1.5665 Acc: 0.9112\n",
            "17, Loss: 1.5622 Acc: 0.9144\n",
            "18, Loss: 1.5203 Acc: 0.9554\n",
            "19, Loss: 1.5284 Acc: 0.9442\n",
            "20, Loss: 1.5309 Acc: 0.9444\n",
            "21, Loss: 1.5090 Acc: 0.9652\n",
            "22, Loss: 1.5064 Acc: 0.9674\n",
            "23, Loss: 1.5112 Acc: 0.9638\n",
            "24, Loss: 1.5084 Acc: 0.9670\n",
            "25, Loss: 1.4911 Acc: 0.9802\n",
            "26, Loss: 1.4883 Acc: 0.9854\n",
            "27, Loss: 1.5033 Acc: 0.9696\n",
            "28, Loss: 1.4851 Acc: 0.9862\n",
            "29, Loss: 1.4909 Acc: 0.9824\n",
            "30, Loss: 1.4870 Acc: 0.9844\n",
            "31, Loss: 1.4739 Acc: 0.9934\n",
            "32, Loss: 1.4733 Acc: 0.9950\n",
            "33, Loss: 1.4699 Acc: 0.9978\n",
            "34, Loss: 1.4713 Acc: 0.9962\n",
            "35, Loss: 1.4735 Acc: 0.9950\n",
            "36, Loss: 1.4722 Acc: 0.9956\n",
            "37, Loss: 1.4672 Acc: 0.9990\n",
            "38, Loss: 1.4686 Acc: 0.9976\n",
            "39, Loss: 1.4699 Acc: 0.9970\n",
            "40, Loss: 1.4692 Acc: 0.9978\n",
            "41, Loss: 1.4668 Acc: 0.9988\n",
            "42, Loss: 1.4666 Acc: 0.9990\n",
            "43, Loss: 1.4672 Acc: 0.9990\n",
            "44, Loss: 1.4667 Acc: 0.9990\n",
            "45, Loss: 1.4668 Acc: 0.9990\n",
            "46, Loss: 1.4664 Acc: 0.9990\n",
            "47, Loss: 1.4664 Acc: 0.9990\n",
            "48, Loss: 1.4665 Acc: 0.9990\n",
            "49, Loss: 1.4663 Acc: 0.9990\n"
          ]
        }
      ]
    },
    {
      "cell_type": "code",
      "source": [
        "plt.title(\"Loss history\")\n",
        "plt.plot(list(range(num_epochs)), loss_history)\n",
        "plt.show()"
      ],
      "metadata": {
        "colab": {
          "base_uri": "https://localhost:8080/",
          "height": 452
        },
        "id": "qKyb7-gnARUk",
        "outputId": "dba22b66-cade-4fd9-9fc4-c0c32768f668"
      },
      "execution_count": 61,
      "outputs": [
        {
          "output_type": "display_data",
          "data": {
            "text/plain": [
              "<Figure size 640x480 with 1 Axes>"
            ],
            "image/png": "[encoded data removed]"
          },
          "metadata": {}
        }
      ]
    },
    {
      "cell_type": "code",
      "source": [
        "plt.title(\"Acc history\")\n",
        "plt.plot(list(range(num_epochs)), list(map(lambda x: x.cpu(), acc_history)))\n",
        "plt.show()"
      ],
      "metadata": {
        "colab": {
          "base_uri": "https://localhost:8080/",
          "height": 452
        },
        "id": "K8-dWKmBBSSf",
        "outputId": "7a166fa7-f6de-4a2d-d29c-8b1e7e63892d"
      },
      "execution_count": 62,
      "outputs": [
        {
          "output_type": "display_data",
          "data": {
            "text/plain": [
              "<Figure size 640x480 with 1 Axes>"
            ],
            "image/png": "[encoded data removed]"
          },
          "metadata": {}
        }
      ]
    },
    {
      "cell_type": "code",
      "source": [
        "plt.title(\"Lr history\")\n",
        "plt.plot(lr_history)\n",
        "plt.show()"
      ],
      "metadata": {
        "colab": {
          "base_uri": "https://localhost:8080/",
          "height": 452
        },
        "id": "zrRfMYzGAxsq",
        "outputId": "8622291e-e57d-4f6d-85ce-a738d96613e1"
      },
      "execution_count": 63,
      "outputs": [
        {
          "output_type": "display_data",
          "data": {
            "text/plain": [
              "<Figure size 640x480 with 1 Axes>"
            ],
            "image/png": "[encoded data removed]"
          },
          "metadata": {}
        }
      ]
    },
    {
      "cell_type": "code",
      "source": [
        "model.eval()\n",
        "running_corrects = 0\n",
        "\n",
        "for i, (inputs, labels) in enumerate(test_loader):\n",
        "    inputs = inputs.to(device)\n",
        "    labels = labels.to(device)\n",
        "\n",
        "    # Forward Pass\n",
        "    outputs = model(inputs)\n",
        "    _, preds = torch.max(outputs, 1)\n",
        "    running_corrects += torch.sum(preds == torch.max(labels, 1)[1])\n",
        "\n",
        "test_acc = running_corrects.double() / len(test_loader.dataset)\n",
        "print('Test Acc: {:.4f}'.format(test_acc))"
      ],
      "metadata": {
        "colab": {
          "base_uri": "https://localhost:8080/"
        },
        "id": "ydGf0ZdOBwB6",
        "outputId": "881f7388-d882-40d3-86f0-e07ad05c385e"
      },
      "execution_count": 64,
      "outputs": [
        {
          "output_type": "stream",
          "name": "stdout",
          "text": [
            "Test Acc: 0.5750\n"
          ]
        }
      ]
    },
    {
      "cell_type": "code",
      "source": [
        "torch.save(model, '/content/media_model.pt')  # 전체 모델 저장\n",
        "torch.save(model.state_dict(), '/content/media_model_state_dict.pt')  # 모델 객체의 state_dict 저장"
      ],
      "metadata": {
        "id": "mGNUjbPuSrPL"
      },
      "execution_count": 65,
      "outputs": []
    },
    {
      "cell_type": "markdown",
      "source": [
        "Best settings:\n",
        "\n",
        "\n",
        "```\n",
        "Learning_rate = 0.0001\n",
        "validation_ratio = 0.2\n",
        "num_epochs = 50\n",
        "max_lr = 0.001\n",
        "pct_start= 0.2\n",
        "weight_decay = 0.005\n",
        "```\n",
        "\n",
        "- test acc: 0.5750\n",
        "- 랜덤 augmentation으로 데이터를 5배 늘림-> 오버피팅 방지\n",
        "- 스케쥴러 적용으로 효과적인 학습\n",
        "- Early stopping 적용해도 될 듯\n"
      ],
      "metadata": {
        "id": "pQmuIzpmSsf5"
      }
    },
    {
      "cell_type": "code",
      "source": [],
      "metadata": {
        "id": "R7O641WvTCbB"
      },
      "execution_count": null,
      "outputs": []
    }
  ]
}